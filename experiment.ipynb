{
 "metadata": {
  "language_info": {
   "codemirror_mode": {
    "name": "ipython",
    "version": 3
   },
   "file_extension": ".py",
   "mimetype": "text/x-python",
   "name": "python",
   "nbconvert_exporter": "python",
   "pygments_lexer": "ipython3",
   "version": "3.8.5-final"
  },
  "orig_nbformat": 2,
  "kernelspec": {
   "name": "python38564bitenvc0b92cb0243d40f68d60fc6bcc76c32a",
   "display_name": "Python 3.8.5 64-bit ('env')",
   "language": "python"
  }
 },
 "nbformat": 4,
 "nbformat_minor": 2,
 "cells": [
  {
   "cell_type": "code",
   "execution_count": 1,
   "metadata": {},
   "outputs": [],
   "source": [
    "import pandas as pd\n",
    "import numpy as np\n",
    "import logging\n",
    "import matplotlib.pyplot as plt\n",
    "from sklearn.preprocessing import StandardScaler\n",
    "from pathlib import Path\n",
    "import itertools\n",
    "\n",
    "from config import shuffled_csv, path_exps\n",
    "from NN import NN_model, Sigmoid, MSE, L2_reg\n",
    "from NN.utility import batch_train, batch_out, Model_Wrapper\n",
    "from LBFGS import LBFGS\n",
    "from testing import multi_run\n"
   ]
  },
  {
   "cell_type": "code",
   "execution_count": 2,
   "metadata": {},
   "outputs": [
    {
     "output_type": "stream",
     "name": "stdout",
     "text": [
      "Testing m1: 0.0001, m2: 0.9\t Finished\n",
      "Testing m1: 0.0001, m2: 0.7\t Finished\n",
      "Testing m1: 0.0001, m2: 0.5\t Finished\n",
      "Testing m1: 0.001, m2: 0.9\t Finished\n",
      "Testing m1: 0.001, m2: 0.7\t Finished\n",
      "Testing m1: 0.001, m2: 0.5\t Finished\n",
      "Testing m1: 0.01, m2: 0.9\t Finished\n",
      "Testing m1: 0.01, m2: 0.7\t Finished\n",
      "Testing m1: 0.01, m2: 0.5\t Finished\n"
     ]
    }
   ],
   "source": [
    "data = pd.read_csv(shuffled_csv, index_col=0).to_numpy()\n",
    "data = data[:10, :]\n",
    "n_samples = data.shape[0]\n",
    "X_data = data[:, :10]\n",
    "Y_data = data[:, 10:]\n",
    "\n",
    "Y_scaler = StandardScaler()\n",
    "Y_scaled = Y_scaler.fit_transform(Y_data)\n",
    "\n",
    "# np.random.seed(11)\n",
    "model = NN_model([10, 20, 20, 2], Sigmoid, MSE)\n",
    "model.init_weights()\n",
    "reg_loss = L2_reg(1e-4)\n",
    "\n",
    "# logging.basicConfig(level=\"INFO\")\n",
    "f = Model_Wrapper(model, X_data, Y_scaled, reg_loss)\n",
    "x = model.Weights\n",
    "\n",
    "##########################################\n",
    "m1 = [1e-4, 1e-3, 1e-2]\n",
    "m2 = [0.9, 0.7, 0.5]\n",
    "HPs = itertools.product(m1, m2)\n",
    "\n",
    "experiments_csv = path_exps / Path(\"LBFGS_grid_search.csv\")\n",
    "# remove HP combinations already explored\n",
    "if experiments_csv.exists():\n",
    "    df = pd.read_csv(experiments_csv)\n",
    "    HPs_new = []\n",
    "    for m1,m2 in HPs:\n",
    "        if ((df['m1'] == m1) & (df['m2'] == m2)).any():\n",
    "            continue\n",
    "        else:\n",
    "            HPs_new.append((m1,m2))\n",
    "    HPs = HPs_new\n",
    "\n",
    "for m1, m2 in HPs:\n",
    "    print(f'Testing m1: {m1}, m2: {m2}', end='')\n",
    "    solver = LBFGS(eps=1e-4, max_feval=5e4, M=10,m1=m1,m2=m2)\n",
    "    results = multi_run(solver, f, n=2)\n",
    "\n",
    "    log_columns = [\"m1\", \"m2\", \"f_evals_m\", \"f_evals_std\", \"n_failures\"]\n",
    "    log_data = [m1, m2, results[2], results[3], results[6]]\n",
    "    df = pd.DataFrame([log_data], columns=log_columns)\n",
    "\n",
    "    if experiments_csv.exists():\n",
    "        df.to_csv(experiments_csv, mode=\"a\", header=False,index=False)\n",
    "    else:\n",
    "        df.to_csv(experiments_csv,index=False)\n",
    "    print('\\t Finished')\n"
   ]
  },
  {
   "cell_type": "code",
   "execution_count": 4,
   "metadata": {},
   "outputs": [
    {
     "output_type": "execute_result",
     "data": {
      "text/plain": [
       "       m1   m2  f_evals_m  f_evals_std  n_failures\n",
       "7  0.0100  0.7      838.5        349.5           0\n",
       "6  0.0100  0.9      908.0        305.0           0\n",
       "0  0.0001  0.9      957.0        344.0           0\n",
       "3  0.0010  0.9     1163.0        375.0           0\n",
       "2  0.0001  0.5     1243.5        506.5           0\n",
       "1  0.0001  0.7     1256.5        481.5           0\n",
       "4  0.0010  0.7     1431.5        455.5           0\n",
       "8  0.0100  0.5     1500.0        445.0           0\n",
       "5  0.0010  0.5        NaN          NaN           2"
      ],
      "text/html": "<div>\n<style scoped>\n    .dataframe tbody tr th:only-of-type {\n        vertical-align: middle;\n    }\n\n    .dataframe tbody tr th {\n        vertical-align: top;\n    }\n\n    .dataframe thead th {\n        text-align: right;\n    }\n</style>\n<table border=\"1\" class=\"dataframe\">\n  <thead>\n    <tr style=\"text-align: right;\">\n      <th></th>\n      <th>m1</th>\n      <th>m2</th>\n      <th>f_evals_m</th>\n      <th>f_evals_std</th>\n      <th>n_failures</th>\n    </tr>\n  </thead>\n  <tbody>\n    <tr>\n      <th>7</th>\n      <td>0.0100</td>\n      <td>0.7</td>\n      <td>838.5</td>\n      <td>349.5</td>\n      <td>0</td>\n    </tr>\n    <tr>\n      <th>6</th>\n      <td>0.0100</td>\n      <td>0.9</td>\n      <td>908.0</td>\n      <td>305.0</td>\n      <td>0</td>\n    </tr>\n    <tr>\n      <th>0</th>\n      <td>0.0001</td>\n      <td>0.9</td>\n      <td>957.0</td>\n      <td>344.0</td>\n      <td>0</td>\n    </tr>\n    <tr>\n      <th>3</th>\n      <td>0.0010</td>\n      <td>0.9</td>\n      <td>1163.0</td>\n      <td>375.0</td>\n      <td>0</td>\n    </tr>\n    <tr>\n      <th>2</th>\n      <td>0.0001</td>\n      <td>0.5</td>\n      <td>1243.5</td>\n      <td>506.5</td>\n      <td>0</td>\n    </tr>\n    <tr>\n      <th>1</th>\n      <td>0.0001</td>\n      <td>0.7</td>\n      <td>1256.5</td>\n      <td>481.5</td>\n      <td>0</td>\n    </tr>\n    <tr>\n      <th>4</th>\n      <td>0.0010</td>\n      <td>0.7</td>\n      <td>1431.5</td>\n      <td>455.5</td>\n      <td>0</td>\n    </tr>\n    <tr>\n      <th>8</th>\n      <td>0.0100</td>\n      <td>0.5</td>\n      <td>1500.0</td>\n      <td>445.0</td>\n      <td>0</td>\n    </tr>\n    <tr>\n      <th>5</th>\n      <td>0.0010</td>\n      <td>0.5</td>\n      <td>NaN</td>\n      <td>NaN</td>\n      <td>2</td>\n    </tr>\n  </tbody>\n</table>\n</div>"
     },
     "metadata": {},
     "execution_count": 4
    }
   ],
   "source": [
    "df = pd.read_csv(experiments_csv)\n",
    "df.sort_values(by=['f_evals_m'])"
   ]
  }
 ]
}