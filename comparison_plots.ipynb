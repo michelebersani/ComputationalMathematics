{
 "metadata": {
  "language_info": {
   "codemirror_mode": {
    "name": "ipython",
    "version": 3
   },
   "file_extension": ".py",
   "mimetype": "text/x-python",
   "name": "python",
   "nbconvert_exporter": "python",
   "pygments_lexer": "ipython3",
   "version": "3.7.6"
  },
  "orig_nbformat": 2,
  "kernelspec": {
   "name": "python376jvsc74a57bd0479bff33ea3876be8ca43112e9ca43336b5bfced11b4adf0d6d90cc00d122092",
   "display_name": "Python 3.7.6 64-bit ('ml': conda)"
  }
 },
 "nbformat": 4,
 "nbformat_minor": 2,
 "cells": [
  {
   "cell_type": "code",
   "execution_count": 1,
   "metadata": {},
   "outputs": [],
   "source": [
    "import pandas as pd\n",
    "import numpy as np\n",
    "import logging\n",
    "import matplotlib.pyplot as plt\n",
    "from sklearn.preprocessing import StandardScaler\n",
    "\n",
    "from config import shuffled_csv, path_exps\n",
    "from NN import NN_model, Sigmoid, MSE, L2_reg\n",
    "from NN.utility import batch_train, batch_out, Model_Wrapper\n",
    "from LBFGS import LBFGS\n",
    "from testing import multi_run\n",
    "\n",
    "data = pd.read_csv(shuffled_csv, index_col=0).to_numpy()\n",
    "data = data[:100, :]\n",
    "n_samples = data.shape[0]\n",
    "X_data = data[:, :10]\n",
    "Y_data = data[:, 10:]\n",
    "\n",
    "Y_scaler = StandardScaler()\n",
    "Y_scaled = Y_scaler.fit_transform(Y_data)\n",
    "\n",
    "# np.random.seed(11)\n",
    "model = NN_model([10, 20, 20, 2], Sigmoid, MSE)\n",
    "model.init_weights()\n",
    "reg_loss = L2_reg(1e-4)\n",
    "\n",
    "# logging.basicConfig(level=\"INFO\")\n",
    "f = Model_Wrapper(model, X_data, Y_scaled, reg_loss)\n",
    "x = model.Weights"
   ]
  },
  {
   "cell_type": "code",
   "execution_count": 2,
   "metadata": {},
   "outputs": [
    {
     "output_type": "stream",
     "name": "stdout",
     "text": [
      "Testing ADAM\n",
      "[[187.79879213172086, 178.89749766689692, 168.5810851594451, 157.45556101884728, 145.6966137623854, 133.46726097757164, 120.96917640937808, 108.47431302713963, 96.34894707332987, 85.05621304926507, 75.13143300118382, 67.12084023142343, 61.463421689703644, 58.310860981808666, 57.324271782459405, 57.60229596885128, 57.940920040721345, 57.327853819967935, 55.2814637468316, 51.85715645240378, 47.46333345173251, 42.65536460800763, 37.979215505637754, 33.873969696329425], [235.7397622678575, 222.62038855042434, 208.13037178402737, 193.4068142994962, 178.75816589712392, 164.2846186979425, 150.07410664460016, 136.24600406799985, 122.95090502453657, 110.36996838796031, 98.71460488658221, 88.2175904721937, 79.10868224773657, 71.57430448198559, 65.70944156224677, 61.47171119683368, 58.64833908444048, 56.85582209197456, 55.599496545133135, 54.391766230820984, 52.869132782425275, 50.846205087630224, 48.30227163256272, 45.335571719815704], [204.58606832211743, 195.58933490212294, 185.5274671623278, 175.0658215017175, 164.28623604567014, 153.12846765975294, 141.54873782174192, 129.5778960376394, 117.33452910303008, 105.02490743189492, 92.93768044155429, 81.43296058819683, 70.92191939960131, 61.82981330976712, 54.537686331612406, 49.297188649538846, 46.11925180609592, 44.67398146958547, 44.28895845740221, 44.12516923732233, 43.46721880316498, 41.93773234760796, 39.52926063549889, 36.50415949519302], [206.90648924900464, 197.55550081799342, 187.15923592775425, 176.3844304733641, 165.33221404109736, 153.96065684192203, 142.23281817631232, 130.20161252857818, 118.05163174004501, 106.11456785690993, 94.854458241987, 84.83522595949992, 76.66286005384214, 70.87752804760653, 67.77528937363229, 67.18184075424392, 68.30169736862491, 69.86507618852403, 70.63160796059475, 69.86420933103138, 67.43749506255281, 63.67099268439322, 59.09894844769152, 54.28416415190096], [212.00142664002874, 203.1534093191824, 193.63573978292698, 184.17721376980643, 174.90273008184872, 165.73095986999584, 156.4943284481, 147.00361271221723, 137.09166276675302, 126.65259543472665, 115.66809391136566, 104.2231661805814, 92.51540641046137, 80.85750395550183, 69.66934120043197, 59.45356839626791, 50.747496621679915, 44.0411251983568, 39.64804687967966, 37.543597582746514, 37.24167120110766, 37.84433741815757, 38.34454115548799, 38.01711280572291]]\n",
      "[[], [], [], [], []]\n"
     ]
    },
    {
     "output_type": "error",
     "ename": "IndexError",
     "evalue": "list index out of range",
     "traceback": [
      "\u001b[0;31m---------------------------------------------------------------------------\u001b[0m",
      "\u001b[0;31mIndexError\u001b[0m                                Traceback (most recent call last)",
      "\u001b[0;32m<ipython-input-2-ec0d46da595e>\u001b[0m in \u001b[0;36m<module>\u001b[0;34m\u001b[0m\n\u001b[1;32m     41\u001b[0m \u001b[0;32mif\u001b[0m \u001b[0mlbfgs_f_values\u001b[0m \u001b[0;32mis\u001b[0m \u001b[0;32mnot\u001b[0m \u001b[0;32mNone\u001b[0m \u001b[0;32mand\u001b[0m \u001b[0madam_f_values\u001b[0m \u001b[0;32mis\u001b[0m \u001b[0;32mnot\u001b[0m \u001b[0;32mNone\u001b[0m\u001b[0;34m:\u001b[0m\u001b[0;34m\u001b[0m\u001b[0;34m\u001b[0m\u001b[0m\n\u001b[1;32m     42\u001b[0m     \u001b[0mrun_1\u001b[0m \u001b[0;34m=\u001b[0m \u001b[0mpair_vector\u001b[0m\u001b[0;34m(\u001b[0m\u001b[0madam_f_values\u001b[0m\u001b[0;34m)\u001b[0m\u001b[0;34m\u001b[0m\u001b[0;34m\u001b[0m\u001b[0m\n\u001b[0;32m---> 43\u001b[0;31m     \u001b[0mrun_2\u001b[0m \u001b[0;34m=\u001b[0m \u001b[0mpair_vector\u001b[0m\u001b[0;34m(\u001b[0m\u001b[0mlbfgs_f_values\u001b[0m\u001b[0;34m)\u001b[0m\u001b[0;34m\u001b[0m\u001b[0;34m\u001b[0m\u001b[0m\n\u001b[0m\u001b[1;32m     44\u001b[0m     \u001b[0mdf_1\u001b[0m \u001b[0;34m=\u001b[0m \u001b[0mpd\u001b[0m\u001b[0;34m.\u001b[0m\u001b[0mDataFrame\u001b[0m\u001b[0;34m(\u001b[0m\u001b[0mrun_1\u001b[0m\u001b[0;34m)\u001b[0m\u001b[0;34m.\u001b[0m\u001b[0mmelt\u001b[0m\u001b[0;34m(\u001b[0m\u001b[0;34m)\u001b[0m\u001b[0;34m\u001b[0m\u001b[0;34m\u001b[0m\u001b[0m\n\u001b[1;32m     45\u001b[0m     \u001b[0mdf_1\u001b[0m\u001b[0;34m[\u001b[0m\u001b[0;34m'function'\u001b[0m\u001b[0;34m]\u001b[0m \u001b[0;34m=\u001b[0m \u001b[0;34m[\u001b[0m\u001b[0;34m\"adam\"\u001b[0m\u001b[0;34m]\u001b[0m \u001b[0;34m*\u001b[0m \u001b[0mlen\u001b[0m\u001b[0;34m(\u001b[0m\u001b[0mdf_1\u001b[0m\u001b[0;34m.\u001b[0m\u001b[0mindex\u001b[0m\u001b[0;34m)\u001b[0m\u001b[0;34m\u001b[0m\u001b[0;34m\u001b[0m\u001b[0m\n",
      "\u001b[0;32m<ipython-input-2-ec0d46da595e>\u001b[0m in \u001b[0;36mpair_vector\u001b[0;34m(vector_list)\u001b[0m\n\u001b[1;32m     10\u001b[0m     \u001b[0;32mfor\u001b[0m \u001b[0mi\u001b[0m \u001b[0;32min\u001b[0m \u001b[0mrange\u001b[0m\u001b[0;34m(\u001b[0m\u001b[0mlen\u001b[0m\u001b[0;34m(\u001b[0m\u001b[0mvector_list\u001b[0m\u001b[0;34m)\u001b[0m\u001b[0;34m)\u001b[0m\u001b[0;34m:\u001b[0m\u001b[0;34m\u001b[0m\u001b[0;34m\u001b[0m\u001b[0m\n\u001b[1;32m     11\u001b[0m         \u001b[0mlastEl\u001b[0m \u001b[0;34m=\u001b[0m \u001b[0mlen\u001b[0m\u001b[0;34m(\u001b[0m\u001b[0mvector_list\u001b[0m\u001b[0;34m[\u001b[0m\u001b[0mi\u001b[0m\u001b[0;34m]\u001b[0m\u001b[0;34m)\u001b[0m \u001b[0;34m-\u001b[0m \u001b[0;36m1\u001b[0m\u001b[0;34m\u001b[0m\u001b[0;34m\u001b[0m\u001b[0m\n\u001b[0;32m---> 12\u001b[0;31m         \u001b[0mtmpArray\u001b[0m \u001b[0;34m=\u001b[0m \u001b[0mnp\u001b[0m\u001b[0;34m.\u001b[0m\u001b[0mfull\u001b[0m\u001b[0;34m(\u001b[0m\u001b[0;34m(\u001b[0m\u001b[0mmaxlen\u001b[0m \u001b[0;34m-\u001b[0m \u001b[0mlastEl\u001b[0m \u001b[0;34m-\u001b[0m \u001b[0;36m1\u001b[0m\u001b[0;34m,\u001b[0m \u001b[0;36m1\u001b[0m\u001b[0;34m)\u001b[0m\u001b[0;34m,\u001b[0m \u001b[0mvector_list\u001b[0m\u001b[0;34m[\u001b[0m\u001b[0mi\u001b[0m\u001b[0;34m]\u001b[0m\u001b[0;34m[\u001b[0m\u001b[0mlastEl\u001b[0m\u001b[0;34m]\u001b[0m\u001b[0;34m)\u001b[0m\u001b[0;34m\u001b[0m\u001b[0;34m\u001b[0m\u001b[0m\n\u001b[0m\u001b[1;32m     13\u001b[0m         \u001b[0mvector_list\u001b[0m\u001b[0;34m[\u001b[0m\u001b[0mi\u001b[0m\u001b[0;34m]\u001b[0m \u001b[0;34m=\u001b[0m \u001b[0mnp\u001b[0m\u001b[0;34m.\u001b[0m\u001b[0marray\u001b[0m\u001b[0;34m(\u001b[0m\u001b[0mnp\u001b[0m\u001b[0;34m.\u001b[0m\u001b[0mconcatenate\u001b[0m\u001b[0;34m(\u001b[0m\u001b[0;34m(\u001b[0m\u001b[0mvector_list\u001b[0m\u001b[0;34m[\u001b[0m\u001b[0mi\u001b[0m\u001b[0;34m]\u001b[0m\u001b[0;34m,\u001b[0m \u001b[0mtmpArray\u001b[0m\u001b[0;34m)\u001b[0m\u001b[0;34m,\u001b[0m \u001b[0maxis\u001b[0m\u001b[0;34m=\u001b[0m\u001b[0;32mNone\u001b[0m\u001b[0;34m)\u001b[0m\u001b[0;34m)\u001b[0m\u001b[0;34m\u001b[0m\u001b[0;34m\u001b[0m\u001b[0m\n\u001b[1;32m     14\u001b[0m     \u001b[0;32mreturn\u001b[0m \u001b[0mvector_list\u001b[0m\u001b[0;34m\u001b[0m\u001b[0;34m\u001b[0m\u001b[0m\n",
      "\u001b[0;31mIndexError\u001b[0m: list index out of range"
     ]
    }
   ],
   "source": [
    "import seaborn as sns\n",
    "from adam import adam_SGD\n",
    "\n",
    "def geo_mean(iterable):\n",
    "    a = np.array(iterable)\n",
    "    return a.prod() ** (1.0 / len(a))\n",
    "\n",
    "def pair_vector(vector_list):\n",
    "    maxlen = len(max(vector_list, key=len))\n",
    "    for i in range(len(vector_list)):\n",
    "        lastEl = len(vector_list[i]) - 1\n",
    "        tmpArray = np.full((maxlen - lastEl - 1, 1), vector_list[i][lastEl])\n",
    "        vector_list[i] = np.array(np.concatenate((vector_list[i], tmpArray), axis=None))\n",
    "    return vector_list\n",
    "\n",
    "runs = 5\n",
    "print('Testing ADAM')\n",
    "\n",
    "\n",
    "adam_f_values = []\n",
    "lbfgs_f_values = []\n",
    "for i in range(runs):\n",
    "    solver = adam_SGD(max_feval = 23)\n",
    "    model.init_weights()\n",
    "    x = model.Weights\n",
    "    status = solver.solve(f, x)\n",
    "    f_values = solver.f_values\n",
    "    adam_f_values.append(f_values)\n",
    "\n",
    "for i in range(runs):\n",
    "    solver = LBFGS(eps=1e-20,max_feval=5,M=200000)\n",
    "    model.init_weights()\n",
    "    x = model.Weights\n",
    "    status = solver.solve(f, x)\n",
    "    f_values = solver.f_values\n",
    "    lbfgs_f_values.append(f_values)\n",
    "\n",
    "print(adam_f_values)\n",
    "print(lbfgs_f_values)\n",
    "\n",
    "if lbfgs_f_values is not None and adam_f_values is not None: \n",
    "    run_1 = pair_vector(adam_f_values)\n",
    "    run_2 = pair_vector(lbfgs_f_values)\n",
    "    df_1 = pd.DataFrame(run_1).melt()\n",
    "    df_1['function'] = [\"adam\"] * len(df_1.index)\n",
    "    df_2 = pd.DataFrame(run_2).melt()\n",
    "    df_2['function'] = [\"lbfgs\"] * len(df_2.index)\n",
    "    result = pd.concat([df_1, df_2], axis=0)\n",
    "    \n",
    "    # Plot fevals\n",
    "    fig = sns.lineplot(x=\"variable\", y=\"value\", hue=\"function\", data=result, estimator=geo_mean)\n",
    "    fig.set_yscale(\"log\")\n",
    "    fig.set(xlabel='f_evaluations', ylabel='Model Loss')"
   ]
  }
 ]
}