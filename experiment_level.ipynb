{
 "metadata": {
  "language_info": {
   "codemirror_mode": {
    "name": "ipython",
    "version": 3
   },
   "file_extension": ".py",
   "mimetype": "text/x-python",
   "name": "python",
   "nbconvert_exporter": "python",
   "pygments_lexer": "ipython3",
   "version": "3.9.1"
  },
  "orig_nbformat": 2,
  "kernelspec": {
   "name": "python391jvsc74a57bd076e70d4f24e964d17f53abe91c9fa765a5a058d8698ed877a6a2481687c98a77",
   "display_name": "Python 3.9.1 64-bit (conda)"
  }
 },
 "nbformat": 4,
 "nbformat_minor": 2,
 "cells": [
  {
   "cell_type": "code",
   "execution_count": 18,
   "metadata": {},
   "outputs": [],
   "source": [
    "import pandas as pd\n",
    "import numpy as np\n",
    "import logging\n",
    "import matplotlib.pyplot as plt\n",
    "from sklearn.preprocessing import StandardScaler\n",
    "from pathlib import Path\n",
    "import itertools\n",
    "\n",
    "from config import shuffled_csv, path_exps\n",
    "from NN import NN_model, Sigmoid, MSE, L2_reg, L1_reg, ReLU\n",
    "from NN.utility import batch_train, batch_out, Model_Wrapper\n",
    "from LBFGS import LBFGS\n",
    "from LevelMethod import LevelMethod\n",
    "from testing import multi_run\n"
   ]
  },
  {
   "cell_type": "code",
   "execution_count": 7,
   "metadata": {
    "tags": []
   },
   "outputs": [
    {
     "output_type": "stream",
     "name": "stdout",
     "text": [
      "Testing lambda: 0.1, bounds: 1\n",
      "LevelMethodException Warning: Negative gap -0.7290820725613685\n",
      "\t Finished\n"
     ]
    }
   ],
   "source": [
    "data = pd.read_csv(shuffled_csv, index_col=0).to_numpy()\n",
    "data = data[:100, :]\n",
    "n_samples = data.shape[0]\n",
    "X_data = data[:, :10]\n",
    "Y_data = data[:, 10:]\n",
    "\n",
    "Y_scaler = StandardScaler()\n",
    "Y_scaled = Y_scaler.fit_transform(Y_data)\n",
    "\n",
    "# np.random.seed(11)\n",
    "model = NN_model([10, 20, 20, 2], ReLU, MSE)\n",
    "model.init_weights()\n",
    "reg_loss = L1_reg(1e-4)\n",
    "\n",
    "# logging.basicConfig(level=\"INFO\")\n",
    "f = Model_Wrapper(model, X_data, Y_scaled, reg_loss)\n",
    "x = model.Weights\n",
    "\n",
    "##########################################\n",
    "lambda_ = [0.1, 0.2, 0.3, 0.4, 0.5, 0.6, 0.7, 0.8, 0.9]\n",
    "bounds = [1]\n",
    "HPs = itertools.product(lambda_, bounds)\n",
    "\n",
    "experiments_csv = path_exps / Path(\"level_grid_search.csv\")\n",
    "# remove HP combinations already explored\n",
    "if experiments_csv.exists():\n",
    "    df = pd.read_csv(experiments_csv)\n",
    "    HPs_new = []\n",
    "    for lambda_, bounds in HPs:\n",
    "        if ((df['lambda_'] == lambda_) & (df['bounds'] == bounds)).any():\n",
    "            continue\n",
    "        else:\n",
    "            HPs_new.append((lambda_, bounds))\n",
    "    HPs = HPs_new\n",
    "\n",
    "for lambda_, bounds in HPs:\n",
    "    print(f'Testing lambda: {lambda_}, bounds: {bounds}', end='\\n')\n",
    "    solver = LevelMethod(lambda_=lambda_, bounds=bounds, max_iter=100000, verbose=False)\n",
    "    results = multi_run(solver, f, n=3)\n",
    "\n",
    "    log_columns = [\"lambda_\", \"bounds\", \"final_fv_m\", \"final_fv_std\", \"f_evals_m\", \"f_evals_std\", \"seconds_m\", \"seconds_std\", \"n_failures\"]\n",
    "    log_data = [lambda_, bounds, results[0], results[1], results[2], results[3], results[4], results[5], results[6]]\n",
    "    df = pd.DataFrame([log_data], columns=log_columns)\n",
    "\n",
    "    if experiments_csv.exists():\n",
    "        df.to_csv(experiments_csv, mode=\"a\", header=False,index=False)\n",
    "    else:\n",
    "        if not os.path.exists(path_exps):\n",
    "            os.mkdir(path_exps)\n",
    "        df.to_csv(experiments_csv,index=False)\n",
    "    print('\\t Finished')\n"
   ]
  },
  {
   "cell_type": "code",
   "execution_count": 30,
   "metadata": {},
   "outputs": [
    {
     "output_type": "execute_result",
     "data": {
      "text/plain": [
       "   lambda_  bounds  final_fv_m  final_fv_std   f_evals_m  f_evals_std  \\\n",
       "8      0.9       1    0.011775      0.000273  911.333333    13.888444   \n",
       "7      0.8       1    0.038847      0.024011  832.666667   142.230642   \n",
       "5      0.6       1    1.138086      0.772114  505.666667   251.555605   \n",
       "6      0.7       1    2.513411      3.336312  694.666667   119.402215   \n",
       "4      0.5       1    2.907702      2.537906  433.666667    34.412530   \n",
       "3      0.4       1   20.816098     12.046484  254.333333    28.871362   \n",
       "0      0.1       1   33.922419     27.212647  492.333333   124.097632   \n",
       "2      0.3       1   62.714657     50.602665  177.000000   109.584062   \n",
       "1      0.2       1  132.242422     47.403336  145.000000    86.733308   \n",
       "\n",
       "     seconds_m  seconds_std  n_failures  \n",
       "8  3392.401042   182.779232           0  \n",
       "7  2959.723958  1057.441325           0  \n",
       "5  1125.447917  1186.488504           0  \n",
       "6  1880.317708   758.271399           0  \n",
       "4   565.822917   123.785897           0  \n",
       "3   186.234375    25.078792           0  \n",
       "0   904.109375   478.838404           0  \n",
       "2   122.968750    97.837367           0  \n",
       "1    92.088542    68.458265           0  "
      ],
      "text/html": "<div>\n<style scoped>\n    .dataframe tbody tr th:only-of-type {\n        vertical-align: middle;\n    }\n\n    .dataframe tbody tr th {\n        vertical-align: top;\n    }\n\n    .dataframe thead th {\n        text-align: right;\n    }\n</style>\n<table border=\"1\" class=\"dataframe\">\n  <thead>\n    <tr style=\"text-align: right;\">\n      <th></th>\n      <th>lambda_</th>\n      <th>bounds</th>\n      <th>final_fv_m</th>\n      <th>final_fv_std</th>\n      <th>f_evals_m</th>\n      <th>f_evals_std</th>\n      <th>seconds_m</th>\n      <th>seconds_std</th>\n      <th>n_failures</th>\n    </tr>\n  </thead>\n  <tbody>\n    <tr>\n      <th>8</th>\n      <td>0.9</td>\n      <td>1</td>\n      <td>0.011775</td>\n      <td>0.000273</td>\n      <td>911.333333</td>\n      <td>13.888444</td>\n      <td>3392.401042</td>\n      <td>182.779232</td>\n      <td>0</td>\n    </tr>\n    <tr>\n      <th>7</th>\n      <td>0.8</td>\n      <td>1</td>\n      <td>0.038847</td>\n      <td>0.024011</td>\n      <td>832.666667</td>\n      <td>142.230642</td>\n      <td>2959.723958</td>\n      <td>1057.441325</td>\n      <td>0</td>\n    </tr>\n    <tr>\n      <th>5</th>\n      <td>0.6</td>\n      <td>1</td>\n      <td>1.138086</td>\n      <td>0.772114</td>\n      <td>505.666667</td>\n      <td>251.555605</td>\n      <td>1125.447917</td>\n      <td>1186.488504</td>\n      <td>0</td>\n    </tr>\n    <tr>\n      <th>6</th>\n      <td>0.7</td>\n      <td>1</td>\n      <td>2.513411</td>\n      <td>3.336312</td>\n      <td>694.666667</td>\n      <td>119.402215</td>\n      <td>1880.317708</td>\n      <td>758.271399</td>\n      <td>0</td>\n    </tr>\n    <tr>\n      <th>4</th>\n      <td>0.5</td>\n      <td>1</td>\n      <td>2.907702</td>\n      <td>2.537906</td>\n      <td>433.666667</td>\n      <td>34.412530</td>\n      <td>565.822917</td>\n      <td>123.785897</td>\n      <td>0</td>\n    </tr>\n    <tr>\n      <th>3</th>\n      <td>0.4</td>\n      <td>1</td>\n      <td>20.816098</td>\n      <td>12.046484</td>\n      <td>254.333333</td>\n      <td>28.871362</td>\n      <td>186.234375</td>\n      <td>25.078792</td>\n      <td>0</td>\n    </tr>\n    <tr>\n      <th>0</th>\n      <td>0.1</td>\n      <td>1</td>\n      <td>33.922419</td>\n      <td>27.212647</td>\n      <td>492.333333</td>\n      <td>124.097632</td>\n      <td>904.109375</td>\n      <td>478.838404</td>\n      <td>0</td>\n    </tr>\n    <tr>\n      <th>2</th>\n      <td>0.3</td>\n      <td>1</td>\n      <td>62.714657</td>\n      <td>50.602665</td>\n      <td>177.000000</td>\n      <td>109.584062</td>\n      <td>122.968750</td>\n      <td>97.837367</td>\n      <td>0</td>\n    </tr>\n    <tr>\n      <th>1</th>\n      <td>0.2</td>\n      <td>1</td>\n      <td>132.242422</td>\n      <td>47.403336</td>\n      <td>145.000000</td>\n      <td>86.733308</td>\n      <td>92.088542</td>\n      <td>68.458265</td>\n      <td>0</td>\n    </tr>\n  </tbody>\n</table>\n</div>"
     },
     "metadata": {},
     "execution_count": 30
    },
    {
     "output_type": "display_data",
     "data": {
      "text/plain": "<Figure size 432x288 with 0 Axes>"
     },
     "metadata": {}
    }
   ],
   "source": [
    "experiments_csv = path_exps / Path(\"level_grid_search.csv\")\n",
    "df = pd.read_csv(experiments_csv)\n",
    "\n",
    "x = df['lambda_']\n",
    "\n",
    "plt.plot(x,df['final_fv_m'], label='min f')\n",
    "plt.xlabel('lambda')\n",
    "plt.ylabel('min f')\n",
    "plt.savefig('minf.png')\n",
    "plt.clf()\n",
    "\n",
    "plt.plot(x,df['f_evals_m'], label='f evals')\n",
    "plt.xlabel('lambda')\n",
    "plt.ylabel('f evals')\n",
    "plt.savefig('f evals.png')\n",
    "plt.clf()\n",
    "\n",
    "plt.plot(x,df['seconds_m'], label='seconds')\n",
    "plt.xlabel('lambda')\n",
    "plt.ylabel('seconds')\n",
    "plt.savefig('seconds.png')\n",
    "plt.clf()\n",
    "\n",
    "df.sort_values(by=['final_fv_m'])"
   ]
  },
  {
   "cell_type": "code",
   "execution_count": null,
   "metadata": {},
   "outputs": [],
   "source": []
  }
 ]
}