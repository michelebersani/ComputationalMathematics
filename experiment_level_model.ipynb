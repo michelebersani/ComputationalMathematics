{
 "metadata": {
  "language_info": {
   "codemirror_mode": {
    "name": "ipython",
    "version": 3
   },
   "file_extension": ".py",
   "mimetype": "text/x-python",
   "name": "python",
   "nbconvert_exporter": "python",
   "pygments_lexer": "ipython3",
   "version": "3.9.1"
  },
  "orig_nbformat": 2,
  "kernelspec": {
   "name": "python391jvsc74a57bd076e70d4f24e964d17f53abe91c9fa765a5a058d8698ed877a6a2481687c98a77",
   "display_name": "Python 3.9.1 64-bit (conda)"
  }
 },
 "nbformat": 4,
 "nbformat_minor": 2,
 "cells": [
  {
   "cell_type": "code",
   "execution_count": 2,
   "metadata": {},
   "outputs": [],
   "source": [
    "import pandas as pd\n",
    "import numpy as np\n",
    "import logging\n",
    "import matplotlib.pyplot as plt\n",
    "from sklearn.preprocessing import StandardScaler\n",
    "from pathlib import Path\n",
    "import itertools\n",
    "\n",
    "from config import shuffled_csv, path_exps\n",
    "from NN import NN_model, Sigmoid, MSE, L2_reg, L1_reg, ReLU\n",
    "from NN.utility import batch_train, batch_out, Model_Wrapper\n",
    "from LBFGS import LBFGS\n",
    "from LevelMethod import LevelMethod\n",
    "from testing import multi_run\n"
   ]
  },
  {
   "cell_type": "code",
   "execution_count": null,
   "metadata": {},
   "outputs": [],
   "source": [
    "data = pd.read_csv(shuffled_csv, index_col=0).to_numpy()\n",
    "data = data[:100, :]\n",
    "n_samples = data.shape[0]\n",
    "X_data = data[:, :10]\n",
    "Y_data = data[:, 10:]\n",
    "\n",
    "Y_scaler = StandardScaler()\n",
    "Y_scaled = Y_scaler.fit_transform(Y_data)\n",
    "\n",
    "# np.random.seed(11)\n",
    "shapes = [[10,5,5,2], [10,20,20,2], [10,50,50,2]]\n",
    "optimal_lambda = \n",
    "\n",
    "# logging.basicConfig(level=\"INFO\")\n",
    "##########################################\n",
    "\n",
    "experiments_csv = path_exps / Path(\"level_models.csv\")\n",
    "\n",
    "for shape in shapes:\n",
    "    models = NN_model(shape, ReLU, MSE)\n",
    "    model.init_weights()\n",
    "\n",
    "    reg_loss = L1_reg(1e-4)\n",
    "\n",
    "    f = Model_Wrapper(model, X_data, Y_scaled, reg_loss)\n",
    "    x = model.Weights\n",
    "\n",
    "    print(f'Testing model ', shape)\n",
    "    solver = LevelMethod(lambda_=optimal_lambda, bounds=bounds, verbose=False)\n",
    "    print(\"È una prova: TOGLI N=1\")\n",
    "    results = multi_run(solver, f, n=1)\n",
    "\n",
    "    log_columns = [\"shape\", \"lambda_\", \"final_fv_m\", \"final_fv_std\", \"f_evals_m\", \"f_evals_std\", \"seconds_m\", \"seconds_std\", \"n_failures\"]\n",
    "    log_data = [shape, optimal_lambda, results[0], results[1], results[2], results[3], results[4], results[5], results[6]]\n",
    "    df = pd.DataFrame([log_data], columns=log_columns)\n",
    "\n",
    "    if experiments_csv.exists():\n",
    "        df.to_csv(experiments_csv, mode=\"a\", header=False,index=False)\n",
    "    else:\n",
    "        if not os.path.exists(path_exps):\n",
    "            os.mkdir(path_exps)\n",
    "        df.to_csv(experiments_csv,index=False)\n",
    "    print('\\t Finished')\n"
   ]
  }
 ]
}